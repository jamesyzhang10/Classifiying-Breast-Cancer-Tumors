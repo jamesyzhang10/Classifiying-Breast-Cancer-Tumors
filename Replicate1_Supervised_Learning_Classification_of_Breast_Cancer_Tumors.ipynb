{
  "nbformat": 4,
  "nbformat_minor": 0,
  "metadata": {
    "colab": {
      "name": "Replicate1 - Supervised Learning Classification of Breast Cancer Tumors.ipynb",
      "provenance": [],
      "authorship_tag": "ABX9TyPg6x+47tdoWiDa5rVwZd/k",
      "include_colab_link": true
    },
    "kernelspec": {
      "name": "python3",
      "display_name": "Python 3"
    }
  },
  "cells": [
    {
      "cell_type": "markdown",
      "metadata": {
        "id": "view-in-github",
        "colab_type": "text"
      },
      "source": [
        "<a href=\"https://colab.research.google.com/github/jamesyzhang10/Classifiying-Breast-Cancer-Tumors/blob/main/Replicate1_Supervised_Learning_Classification_of_Breast_Cancer_Tumors.ipynb\" target=\"_parent\"><img src=\"https://colab.research.google.com/assets/colab-badge.svg\" alt=\"Open In Colab\"/></a>"
      ]
    },
    {
      "cell_type": "code",
      "metadata": {
        "id": "LBFckui94lD8",
        "colab": {
          "base_uri": "https://localhost:8080/"
        },
        "outputId": "21915d3f-17c0-425e-f048-c80ccf4c1011"
      },
      "source": [
        "import tensorflow as tf\n",
        "from tensorflow import keras\n",
        "\n",
        "import csv\n",
        "from csv import reader\n",
        "\n",
        "from google.colab import drive \n",
        "drive.mount('/content/drive')\n",
        "%cd /content/drive/My\\ Drive/"
      ],
      "execution_count": 47,
      "outputs": [
        {
          "output_type": "stream",
          "text": [
            "Drive already mounted at /content/drive; to attempt to forcibly remount, call drive.mount(\"/content/drive\", force_remount=True).\n",
            "/content/drive/My Drive\n"
          ],
          "name": "stdout"
        }
      ]
    },
    {
      "cell_type": "code",
      "metadata": {
        "id": "Qx_WO5pmWrHO"
      },
      "source": [
        "#Data manipulation\n",
        "data = []\n",
        "with open(\"/content/drive/My Drive/data.csv\", mode = \"r\") as file:\n",
        "  \n",
        "  to_read = reader(file)\n",
        "  next(to_read)\n",
        "\n",
        "  for i in to_read:\n",
        "    data.append(i)\n",
        "\n",
        "for i in range(len(data)): \n",
        "  for j in range(len(data[i])):\n",
        "    data[i][j] = int(data[i][j]) #Converting the data from strings to int so that TensorFlow can understand it"
      ],
      "execution_count": 48,
      "outputs": []
    },
    {
      "cell_type": "code",
      "metadata": {
        "id": "AC92Ea8EK1lh"
      },
      "source": [
        "#initializing the input and output sets\n",
        "X = []\n",
        "y = []\n",
        "\n",
        "#in the data, 2 represents benign and 4 represents malignant. \n",
        "#Our model wants to use binary classification, so I had to convert 2s to 0s and 4s to 1s\n",
        "\n",
        "for i in data:\n",
        "  X.append(i[:-1]) #appending each row, except for the last index of each row, which is the output\n",
        "  if i[9] == 2:  \n",
        "    y.append(0)\n",
        "  else:\n",
        "    y.append(1)"
      ],
      "execution_count": 49,
      "outputs": []
    },
    {
      "cell_type": "code",
      "metadata": {
        "id": "GPQa5pyhqoBH"
      },
      "source": [
        "#Splitting into data for training and data for testing\n",
        "from sklearn.model_selection import train_test_split\n",
        "X_train, X_test, y_train, y_test = train_test_split(X, y, test_size = 0.2)"
      ],
      "execution_count": 50,
      "outputs": []
    },
    {
      "cell_type": "code",
      "metadata": {
        "id": "7LgTMh5XOiIg"
      },
      "source": [
        "#Import the Sequential model\n",
        "from keras.models import Sequential\n",
        "\n",
        "#Multiple layers\n",
        "from keras.layers import Dense\n",
        "\n",
        "#Initialize the neural network and create two hidden layers and one output layer. \n",
        "#Dense just means that all nodes will connect via weights to the nodes in the previous and next layers.\n",
        "model = Sequential()\n",
        "\n",
        "model.add(Dense(8, activation = \"relu\", name = \"hidden1\"))\n",
        "model.add(Dense(6, activation = \"relu\", name = \"hidden2\"))\n",
        "model.add(Dense(1, activation = \"sigmoid\", name = \"output\"))"
      ],
      "execution_count": 51,
      "outputs": []
    },
    {
      "cell_type": "code",
      "metadata": {
        "id": "ik5U4vtVLS45"
      },
      "source": [
        "#Compile the model\n",
        "model.compile(optimizer = 'adam', metrics = ['accuracy'], loss = 'binary_crossentropy')"
      ],
      "execution_count": 52,
      "outputs": []
    },
    {
      "cell_type": "code",
      "metadata": {
        "id": "AE2aDHfuQYmT"
      },
      "source": [
        "#Training the model\n",
        "model.fit(X_train, y_train, batch_size = 2, epochs = 12, verbose = 2)"
      ],
      "execution_count": null,
      "outputs": []
    },
    {
      "cell_type": "code",
      "metadata": {
        "id": "JskOpQsfHQ1c"
      },
      "source": [
        "#Testing the model\n",
        "model.evaluate(X_test, y_test, verbose = 2)"
      ],
      "execution_count": null,
      "outputs": []
    }
  ]
}